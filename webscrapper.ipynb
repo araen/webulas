{
 "cells": [
  {
   "cell_type": "code",
   "execution_count": 1,
   "metadata": {},
   "outputs": [
    {
     "name": "stdout",
     "output_type": "stream",
     "text": [
      "[[\"\\n\\nPungli\\r\\n                  Pungli parkir di indomaret wilaya jebres\\r\\n                \\n\", \"/index.php?mod=widget&sub=detilTrack&act=view&typ=html&id=Jd83NjA%3D\"], [\"\\n\\nPungli\\r\\n                  Pungli parkir di indomaret wilaya jebres\\r\\n                \\n\", \"/index.php?mod=widget&sub=detilTrack&act=view&typ=html&id=Jd83NTk%3D\"], [\"\\n\\nPungli\\r\\n                  Pungli parkir di indomaret wilaya jebres\\r\\n                \\n\", \"/index.php?mod=widget&sub=detilTrack&act=view&typ=html&id=Jd83NTg%3D\"], [\"\\n\\npenerangan jalan umum\\r\\n                  ada 2 lampu 1 mati 1 nya redup di jalan hordenasan\\n\\n rt02 rw03\\r\\n                \\n\", \"/index.php?mod=widget&sub=detilTrack&act=view&typ=html&id=Jd83NTc%3D\"], [\"\\n\\npenerangan jalan umum\\r\\n                  ada dua lampu penerangan jalan 1 mati 1 nya redup di jalan ...\\r\\n                \\n\", \"/index.php?mod=widget&sub=detilTrack&act=view&typ=html&id=Jd83NTY%3D\"], [\"\\n\\nPEMBANGUNAN JALAN TOL\\r\\n                  Lapor Mas Wali: Ridwan Bayu Pamungkas. Semoga jalan tolnya didorong ...\\r\\n                \\n\", \"/index.php?mod=widget&sub=detilTrack&act=view&typ=html&id=Jd83NTU%3D\"], [\"\\n\\nBANTUAN PEMERINTAH\\r\\n                  Lapor Mas Wali: Sulianti. Sebelumnya sy mohon mf pak Gibran, ...\\r\\n                \\n\", \"/index.php?mod=widget&sub=detilTrack&act=view&typ=html&id=Jd83NTQ%3D\"], [\"\\n\\nLANJUTAN ADUAN (Tracking ID : 2024003541)\\r\\n                  Lapor Mas Wali: Choirul Hafidz. Sy minta tolong bantuannya. Soalnya ...\\r\\n                \\n\", \"/index.php?mod=widget&sub=detilTrack&act=view&typ=html&id=Jd83NTM%3D\"], [\"\\n\\nBANTUAN KULIAH\\r\\n                  Lapor Mas Wali: Aulia Putri. Untuk uang kuliah kak. Tolong ...\\r\\n                \\n\", \"/index.php?mod=widget&sub=detilTrack&act=view&typ=html&id=Jd83NTI%3D\"], [\"\\n\\nJALAN BERLUBANG\\r\\n                  Lapor Mas Wali: David Verdyansah. selamat sore, izin mas wali\\n...\\r\\n                \\n\", \"/index.php?mod=widget&sub=detilTrack&act=view&typ=html&id=Jd83NTE%3D\"], [\"\\n\\nEMAILYANG DAPAT DIHUBUNGI\\r\\n                  Lapor Mas Wali: Usya Soeharjono. Assalamu alaikum. \\nSalam kenal dari ...\\r\\n                \\n\", \"/index.php?mod=widget&sub=detilTrack&act=view&typ=html&id=Jd83NDk%3D\"], [\"\\n\\nLANJUTAN ADUAN (Tracking ID : 2024003393)\\r\\n                  Lapor Mas Wali: Nia. Mas Gibran.. belum ada perbaikan terkait ...\\r\\n                \\n\", \"/index.php?mod=widget&sub=detilTrack&act=view&typ=html&id=Jd83NDg%3D\"], [\"\\n\\nAPLIKASI TEMAN BUS\\r\\n                  Lapor Mas Wali: Irsa Arrasyad Wisnu Priarto. Teman bus tidak ...\\r\\n                \\n\", \"/index.php?mod=widget&sub=detilTrack&act=view&typ=html&id=Jd83NDc%3D\"], [\"\\n\\nSERTIFIKAT PRA NIKAH\\r\\n                  Lapor Mas Wali: Ika K. Assalamualaikum mohon maaf sebelumnya mas ...\\r\\n                \\n\", \"/index.php?mod=widget&sub=detilTrack&act=view&typ=html&id=Jd83NDY%3D\"], [\"\\n\\nBONUS PORPROV\\r\\n                  Lapor Mas Wali: Briliandri Christianto. selamat sore mas gibran, bagaimana ...\\r\\n                \\n\", \"/index.php?mod=widget&sub=detilTrack&act=view&typ=html&id=Jd83NDI%3D\"], [\"\\n\\nPERMOHONAN BANTUAN\\r\\n                  Lapor Mas Wali: Mulat Novita Sari. Nama lengkap : mulat novita ...\\r\\n                \\n\", \"/index.php?mod=widget&sub=detilTrack&act=view&typ=html&id=Jd83NDE%3D\"], [\"\\n\\nTRUCK MASUK KE DALAM KOTA\\r\\n                  Lapor Mas Wali: Ridwan Bayu Pamungkas. Selmat sore mas. Truck\\u00b2 ...\\r\\n                \\n\", \"/index.php?mod=widget&sub=detilTrack&act=view&typ=html&id=Jd83NDA%3D\"], [\"\\n\\nPERMOHONAN BANTUAN\\r\\n                  Lapor Mas Wali: Warsiti. Maaf Ms Gibran dari Sd sampai ...\\r\\n                \\n\", \"/index.php?mod=widget&sub=detilTrack&act=view&typ=html&id=Jd83Mzk%3D\"], [\"\\n\\nLANJUTAN ADUAN (Tracking ID : 2024003501)\\r\\n                  Lapor Mas Wali: Agus Supriyanto. Ow .njeeh.\\nYa kalau ada ...\\r\\n                \\n\", \"/index.php?mod=widget&sub=detilTrack&act=view&typ=html&id=Jd83Mzg%3D\"], [\"\\n\\nPERMOHONAN BANTUAN\\r\\n                  Lapor Mas Wali: Warsiti. Maaf sebelumnya ya Ms Gibran , mungkin ...\\r\\n                \\n\", \"/index.php?mod=widget&sub=detilTrack&act=view&typ=html&id=Jd83Mzc%3D\"]]\n"
     ]
    }
   ],
   "source": [
    "from Scrapper import Scrapper\n",
    "\n",
    "scrapper = Scrapper()\n",
    "scrapper.scrap()"
   ]
  }
 ],
 "metadata": {
  "kernelspec": {
   "display_name": "bri_ds",
   "language": "python",
   "name": "python3"
  },
  "language_info": {
   "codemirror_mode": {
    "name": "ipython",
    "version": 3
   },
   "file_extension": ".py",
   "mimetype": "text/x-python",
   "name": "python",
   "nbconvert_exporter": "python",
   "pygments_lexer": "ipython3",
   "version": "3.10.13"
  }
 },
 "nbformat": 4,
 "nbformat_minor": 2
}
